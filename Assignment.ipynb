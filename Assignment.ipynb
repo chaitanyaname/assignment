{
 "cells": [
  {
   "cell_type": "markdown",
   "metadata": {},
   "source": [
    "Q1. When to Use for loop and while loop\n",
    "\n",
    "for loop: Use a for loop when you know beforehand the exact number of times you need to iterate through a sequence of items. It's generally more concise and efficient for predetermined iterations.\n"
   ]
  },
  {
   "cell_type": "code",
   "execution_count": 1,
   "metadata": {},
   "outputs": [
    {
     "name": "stdout",
     "output_type": "stream",
     "text": [
      "1\n",
      "2\n",
      "3\n",
      "4\n",
      "5\n"
     ]
    }
   ],
   "source": [
    "#while loop\n",
    "number = 1\n",
    "while number <= 5:\n",
    "    print(number)\n",
    "    number += 1"
   ]
  },
  {
   "cell_type": "code",
   "execution_count": 2,
   "metadata": {},
   "outputs": [
    {
     "name": "stdout",
     "output_type": "stream",
     "text": [
      "apple\n",
      "banana\n",
      "cherry\n"
     ]
    }
   ],
   "source": [
    "# for loop\n",
    "fruits = [\"apple\", \"banana\", \"cherry\"]\n",
    "for fruit in fruits:\n",
    "    print(fruit)"
   ]
  },
  {
   "cell_type": "markdown",
   "metadata": {},
   "source": [
    "Q2. Sum and Product of First 10 Natural Numbers"
   ]
  },
  {
   "cell_type": "code",
   "execution_count": 3,
   "metadata": {},
   "outputs": [
    {
     "name": "stdout",
     "output_type": "stream",
     "text": [
      "Sum: 55\n",
      "Product: 3628800\n"
     ]
    }
   ],
   "source": [
    "#Using for loop:\n",
    "sum = 0\n",
    "product = 1\n",
    "for num in range(1, 11):\n",
    "    sum += num\n",
    "    product *= num\n",
    "\n",
    "print(\"Sum:\", sum)\n",
    "print(\"Product:\", product)"
   ]
  },
  {
   "cell_type": "code",
   "execution_count": 4,
   "metadata": {},
   "outputs": [
    {
     "name": "stdout",
     "output_type": "stream",
     "text": [
      "Sum: 110\n",
      "Product: 3628800\n"
     ]
    }
   ],
   "source": [
    "#Using while loop:sum = 0\n",
    "product = 1\n",
    "num = 1\n",
    "while num <= 10:\n",
    "    sum += num\n",
    "    product *= num\n",
    "    num += 1\n",
    "\n",
    "print(\"Sum:\", sum)\n",
    "print(\"Product:\", product)"
   ]
  },
  {
   "cell_type": "markdown",
   "metadata": {},
   "source": [
    "Q3. Electricity Bill Calculation\n"
   ]
  },
  {
   "cell_type": "code",
   "execution_count": 5,
   "metadata": {},
   "outputs": [
    {
     "ename": "ValueError",
     "evalue": "invalid literal for int() with base 10: ''",
     "output_type": "error",
     "traceback": [
      "\u001b[1;31m---------------------------------------------------------------------------\u001b[0m",
      "\u001b[1;31mValueError\u001b[0m                                Traceback (most recent call last)",
      "Cell \u001b[1;32mIn[5], line 13\u001b[0m\n\u001b[0;32m     10\u001b[0m         total_bill \u001b[38;5;241m=\u001b[39m \u001b[38;5;241m1850\u001b[39m \u001b[38;5;241m+\u001b[39m (units \u001b[38;5;241m-\u001b[39m \u001b[38;5;241m300\u001b[39m) \u001b[38;5;241m*\u001b[39m \u001b[38;5;241m20\u001b[39m\n\u001b[0;32m     11\u001b[0m     \u001b[38;5;28;01mreturn\u001b[39;00m total_bill\n\u001b[1;32m---> 13\u001b[0m units \u001b[38;5;241m=\u001b[39m \u001b[38;5;28;43mint\u001b[39;49m\u001b[43m(\u001b[49m\u001b[38;5;28;43minput\u001b[39;49m\u001b[43m(\u001b[49m\u001b[38;5;124;43m\"\u001b[39;49m\u001b[38;5;124;43mEnter units consumed: \u001b[39;49m\u001b[38;5;124;43m\"\u001b[39;49m\u001b[43m)\u001b[49m\u001b[43m)\u001b[49m\n\u001b[0;32m     14\u001b[0m bill_amount \u001b[38;5;241m=\u001b[39m calculate_electricity_bill(units)\n\u001b[0;32m     15\u001b[0m \u001b[38;5;28mprint\u001b[39m(\u001b[38;5;124m\"\u001b[39m\u001b[38;5;124mElectricity bill:\u001b[39m\u001b[38;5;124m\"\u001b[39m, bill_amount)\n",
      "\u001b[1;31mValueError\u001b[0m: invalid literal for int() with base 10: ''"
     ]
    }
   ],
   "source": [
    "def calculate_electricity_bill(units):\n",
    "    total_bill = 0\n",
    "    if units <= 100:\n",
    "        total_bill = units * 4.5\n",
    "    elif units <= 200:\n",
    "        total_bill = 450 + (units - 100) * 6\n",
    "    elif units <= 300:\n",
    "        total_bill = 1050 + (units - 200) * 10\n",
    "    else:\n",
    "        total_bill = 1850 + (units - 300) * 20\n",
    "    return total_bill\n",
    "\n",
    "units = int(input(\"Enter units consumed: \"))\n",
    "bill_amount = calculate_electricity_bill(units)\n",
    "print(\"Electricity bill:\", bill_amount)"
   ]
  },
  {
   "cell_type": "markdown",
   "metadata": {},
   "source": [
    "Q4. Cube of Numbers Divisible by 4 or 5"
   ]
  },
  {
   "cell_type": "code",
   "execution_count": null,
   "metadata": {},
   "outputs": [],
   "source": [
    "numbers = list(range(1, 101))  # Create a list from 1 to 100\n",
    "cubes_divisible_by_4_or_5 = []\n",
    "\n",
    "# Using for loop\n",
    "for num in numbers:\n",
    "    cube = num**3\n",
    "    if cube % 4 == 0 or cube % 5 == 0:\n",
    "        cubes_divisible_by_4_or_5.append(num)\n",
    "\n",
    "print(\"Numbers with cubes divisible by 4 or 5 (using for loop):\", cubes_divisible_by_4_or_5)\n",
    "\n",
    "# Using while loop\n",
    "cubes_divisible_by_4_or_5 = []\n",
    "i = 0\n",
    "while i < len(numbers):\n",
    "    cube = numbers[i]**3\n",
    "    if cube % 4 == 0 or cube % 5 == 0:\n",
    "        cubes_divisible_by_4_or_5.append(numbers[i])\n",
    "    i += 1\n",
    "\n",
    "print(\"Numbers with cubes divisible by 4 or 5 (using while loop):\", cubes_divisible_by_4_or_5)\n"
   ]
  },
  {
   "cell_type": "markdown",
   "metadata": {},
   "source": [
    "Q5. Count Vowels in a String"
   ]
  },
  {
   "cell_type": "code",
   "execution_count": null,
   "metadata": {},
   "outputs": [],
   "source": [
    "string = \"I want to become a data scientist\"\n",
    "vowels = \"aeiouAEIOU\"\n",
    "vowel_count = 0"
   ]
  }
 ],
 "metadata": {
  "kernelspec": {
   "display_name": "Python 3",
   "language": "python",
   "name": "python3"
  },
  "language_info": {
   "codemirror_mode": {
    "name": "ipython",
    "version": 3
   },
   "file_extension": ".py",
   "mimetype": "text/x-python",
   "name": "python",
   "nbconvert_exporter": "python",
   "pygments_lexer": "ipython3",
   "version": "3.12.2"
  }
 },
 "nbformat": 4,
 "nbformat_minor": 2
}
